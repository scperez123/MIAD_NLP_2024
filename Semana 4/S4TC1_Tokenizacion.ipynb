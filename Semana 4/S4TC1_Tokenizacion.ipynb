{
 "cells": [
  {
   "cell_type": "markdown",
   "metadata": {},
   "source": [
    "![image info](https://raw.githubusercontent.com/albahnsen/MIAD_ML_and_NLP/main/images/banner_1.png)"
   ]
  },
  {
   "cell_type": "markdown",
   "metadata": {},
   "source": [
    "# Taller: Tokenización de textos  \n",
    "\n",
    "En este taller podrán poner en práctica sus conocimientos sobre preprocesamiento de texto (tokenización). El taller está constituido por 5 puntos, en los cuales deberan seguir las intrucciones de cada numeral para su desarrollo."
   ]
  },
  {
   "cell_type": "markdown",
   "metadata": {},
   "source": [
    "## Datos detección de toxicidad en comentarios\n",
    "\n",
    "En este taller se usará el conjunto de datos de detección de toxicidad en comentarios de la base de datos de Kaggle. Cada observación es un comentario que tiene como variable objetivo (target) la probabilidad de ser un comentario tóxico. El objetivo es predecir la toxicidad de cada comentario. Para más detalles pueden visitar el siguiente enlace: [datos](https://www.kaggle.com/c/jigsaw-unintended-bias-in-toxicity-classification/data)."
   ]
  },
  {
   "cell_type": "code",
   "execution_count": 1,
   "metadata": {},
   "outputs": [],
   "source": [
    "import warnings\n",
    "warnings.filterwarnings('ignore')\n"
   ]
  },
  {
   "cell_type": "code",
   "execution_count": 2,
   "metadata": {},
   "outputs": [],
   "source": [
    "# Importación librerías\n",
    "import pandas as pd\n",
    "import numpy as np\n",
    "import scipy as sp\n",
    "from sklearn.model_selection import train_test_split, cross_val_score\n",
    "from sklearn.feature_extraction.text import CountVectorizer, TfidfVectorizer\n",
    "from sklearn import metrics\n",
    "from sklearn.linear_model import Ridge\n",
    "%matplotlib inline\n",
    "\n",
    "from sklearn.ensemble import RandomForestRegressor\n",
    "from sklearn.metrics import mean_squared_error\n"
   ]
  },
  {
   "cell_type": "code",
   "execution_count": 3,
   "metadata": {},
   "outputs": [
    {
     "data": {
      "text/html": [
       "<div>\n",
       "<style scoped>\n",
       "    .dataframe tbody tr th:only-of-type {\n",
       "        vertical-align: middle;\n",
       "    }\n",
       "\n",
       "    .dataframe tbody tr th {\n",
       "        vertical-align: top;\n",
       "    }\n",
       "\n",
       "    .dataframe thead th {\n",
       "        text-align: right;\n",
       "    }\n",
       "</style>\n",
       "<table border=\"1\" class=\"dataframe\">\n",
       "  <thead>\n",
       "    <tr style=\"text-align: right;\">\n",
       "      <th></th>\n",
       "      <th>id</th>\n",
       "      <th>comment_text</th>\n",
       "      <th>target</th>\n",
       "    </tr>\n",
       "  </thead>\n",
       "  <tbody>\n",
       "    <tr>\n",
       "      <th>0</th>\n",
       "      <td>6101457</td>\n",
       "      <td>What are you talking about? What group do Pete...</td>\n",
       "      <td>0.0</td>\n",
       "    </tr>\n",
       "    <tr>\n",
       "      <th>1</th>\n",
       "      <td>5342103</td>\n",
       "      <td>NO!, Let him, we need a Conservative government.</td>\n",
       "      <td>0.0</td>\n",
       "    </tr>\n",
       "    <tr>\n",
       "      <th>2</th>\n",
       "      <td>743361</td>\n",
       "      <td>Perhaps he took the \"power out of the Cardinal...</td>\n",
       "      <td>0.2</td>\n",
       "    </tr>\n",
       "    <tr>\n",
       "      <th>3</th>\n",
       "      <td>551008</td>\n",
       "      <td>As always, yours is dripping with sarcasm, whi...</td>\n",
       "      <td>0.0</td>\n",
       "    </tr>\n",
       "    <tr>\n",
       "      <th>4</th>\n",
       "      <td>865998</td>\n",
       "      <td>The dirty little secret is that the price rang...</td>\n",
       "      <td>0.3</td>\n",
       "    </tr>\n",
       "  </tbody>\n",
       "</table>\n",
       "</div>"
      ],
      "text/plain": [
       "        id                                       comment_text  target\n",
       "0  6101457  What are you talking about? What group do Pete...     0.0\n",
       "1  5342103   NO!, Let him, we need a Conservative government.     0.0\n",
       "2   743361  Perhaps he took the \"power out of the Cardinal...     0.2\n",
       "3   551008  As always, yours is dripping with sarcasm, whi...     0.0\n",
       "4   865998  The dirty little secret is that the price rang...     0.3"
      ]
     },
     "execution_count": 3,
     "metadata": {},
     "output_type": "execute_result"
    }
   ],
   "source": [
    "# Carga de datos de archivos .csv\n",
    "df = pd.read_csv('https://raw.githubusercontent.com/albahnsen/MIAD_ML_and_NLP/main/datasets/Toxicity.zip')\n",
    "df = df[['id','comment_text', 'target']]\n",
    "df.head()\n"
   ]
  },
  {
   "cell_type": "code",
   "execution_count": 4,
   "metadata": {},
   "outputs": [
    {
     "data": {
      "text/plain": [
       "<Axes: >"
      ]
     },
     "execution_count": 4,
     "metadata": {},
     "output_type": "execute_result"
    },
    {
     "data": {
      "image/png": "[encoded data removed]",
      "text/plain": [
       "<Figure size 640x480 with 1 Axes>"
      ]
     },
     "metadata": {},
     "output_type": "display_data"
    }
   ],
   "source": [
    "# Impresión histograma de variable de interés (y)\n",
    "df.target.hist()\n"
   ]
  },
  {
   "cell_type": "code",
   "execution_count": 5,
   "metadata": {},
   "outputs": [
    {
     "data": {
      "text/plain": [
       "count    541462.000000\n",
       "mean          0.102991\n",
       "std           0.196979\n",
       "min           0.000000\n",
       "25%           0.000000\n",
       "50%           0.000000\n",
       "75%           0.166667\n",
       "max           1.000000\n",
       "Name: target, dtype: float64"
      ]
     },
     "execution_count": 5,
     "metadata": {},
     "output_type": "execute_result"
    }
   ],
   "source": [
    "# Separación de variable de interés (y)\n",
    "y = df.target\n",
    "y.describe()\n"
   ]
  },
  {
   "cell_type": "code",
   "execution_count": 6,
   "metadata": {},
   "outputs": [],
   "source": [
    "# Separación de variables predictoras (X), solo se considera el texto de la noticia\n",
    "X = df.comment_text\n"
   ]
  },
  {
   "cell_type": "code",
   "execution_count": 7,
   "metadata": {},
   "outputs": [],
   "source": [
    "# Separación de datos en set de entrenamiento y test\n",
    "X_train, X_test, y_train, y_test = train_test_split(X, y, test_size=0.33, random_state=42)\n"
   ]
  },
  {
   "cell_type": "markdown",
   "metadata": {},
   "source": [
    "## Punto 1 - Tokenización con CountVectorizer\n",
    "\n",
    "En la celda 1 creen y entrenen el modelo de regresión de su preferencia, para que prediga la probabilidad de que un comentario sea tóxico, usando los set de entrenamiento y test definidos anteriormente. Usen la función **CountVectorizer** para preprocesar los comentarios y presenten el desempeño del modelo con la métrica del MSE.\n",
    "\n",
    "Recuerden que el preprocesamiento que se haga sobre los datos de entrenamiento  (*.fit_transform()*) deben ser aplicado al set de test (*.transform()*)."
   ]
  },
  {
   "cell_type": "code",
   "execution_count": null,
   "metadata": {},
   "outputs": [],
   "source": [
    "# Celda 1\n",
    "# Preprocesamiento con CountVectorizer\n",
    "vectorizer = CountVectorizer(max_features=5000)\n",
    "X_train_vectorized = vectorizer.fit_transform(X_train)\n",
    "X_test_vectorized = vectorizer.transform(X_test)\n",
    "\n",
    "# Creación y entrenamiento del modelo RandomForestRegressor\n",
    "model = RandomForestRegressor(n_estimators=50, random_state=42, max_samples=0.5)\n",
    "model.fit(X_train_vectorized, y_train)\n",
    "\n",
    "# Predicciones y evaluación\n",
    "y_pred = model.predict(X_test_vectorized)\n",
    "mse = mean_squared_error(y_test, y_pred)\n",
    "print('Mean Squared Error:', mse)\n"
   ]
  },
  {
   "cell_type": "markdown",
   "metadata": {},
   "source": [
    "## Punto 2 - Tokenización con CountVectorizer y trigramas\n",
    "\n",
    "En la celda 2 creen y entrenen el mismo modelo de regresión del punto anterior (es decir si usaron un RandomForestRegresor usen nuevamente ese regresor), para que prediga la probabilidad de que un comentario sea tóxico, usando los set de entrenamiento y test definidos anteriormente. Usen la función CountVectorizer **considerando trigramas** para preprocesar los comentarios y presenten el desempeño del modelo con la métrica del MSE.\n",
    "\n",
    "Recuerden que el preprocesamiento que se haga sobre los datos de entrenamiento  (*.fit_transform()*) deben ser aplicado al set de test (*.transform()*)."
   ]
  },
  {
   "cell_type": "code",
   "execution_count": null,
   "metadata": {},
   "outputs": [],
   "source": [
    "# Celda 2\n",
    "# Preprocesamiento con CountVectorizer usando trigramas\n",
    "vectorizer = CountVectorizer(ngram_range=(3, 3))\n",
    "X_train_vectorized = vectorizer.fit_transform(X_train)\n",
    "X_test_vectorized = vectorizer.transform(X_test)\n",
    "\n",
    "# Creación y entrenamiento del modelo RandomForestRegressor\n",
    "model = RandomForestRegressor(n_estimators=10, random_state=42)\n",
    "model.fit(X_train_vectorized, y_train)\n",
    "\n",
    "# Predicciones y evaluación\n",
    "y_pred = model.predict(X_test_vectorized)\n",
    "mse = mean_squared_error(y_test, y_pred)\n",
    "print('Mean Squared Error:', mse)\n"
   ]
  },
  {
   "cell_type": "markdown",
   "metadata": {},
   "source": [
    "## Punto 3 - TfidfVectorizer\n",
    "\n",
    "Investigen sobre la función TfidfVectorizer. En la celda de texto 3, expliquen en qué consiste esta técnica de tokenización (describanla y expliquen su funcionamiento) y cúales son las ventajas o deventajas de su uso al compararlo con la función CountVectorizer."
   ]
  },
  {
   "cell_type": "markdown",
   "metadata": {},
   "source": [
    "#Celda 3\n"
   ]
  },
  {
   "cell_type": "markdown",
   "metadata": {},
   "source": [
    "TfidfVectorizer es una técnica de procesamiento de texto que convierte una colección de documentos de texto en una matriz de características TF-IDF. TF-IDF significa \"Term Frequency-Inverse Document Frequency\", que son dos medidas combinadas en una sola que describen la importancia de una palabra en un documento en relación con una colección de documentos o corpus.\n",
    "\n",
    "Term Frequency (TF): Es la frecuencia relativa con la que una palabra aparece en un documento en comparación con el total de palabras en ese documento. Esto ayuda a entender la importancia de la palabra dentro del documento específico.\n",
    "\n",
    "Inverse Document Frequency (IDF): Mide la importancia general de la palabra considerando cuán frecuentemente aparece en todos los documentos del corpus. \n",
    "Esto disminuye la importancia de las palabras que aparecen muy frecuentemente en el corpus (como preposiciones) y que, por lo tanto, son menos informativas.\n",
    "\n",
    "TF-IDF Weight: El peso TF-IDF de cada palabra es el producto de su TF y su IDF. Este peso es alto para palabras que son muy típicas para un documento, pero no comunes en todo el corpus, lo que las hace buenas para distinguir entre documentos.\n",
    "\n",
    "Ventajas de TfidfVectorizer sobre CountVectorizer\n",
    "\n",
    "Relevancia sobre frecuencia: TfidfVectorizer no solo cuenta la frecuencia de las palabras, sino que también considera cuánto de únicas son estas palabras entre todos los documentos (corpus). Esto ayuda a resaltar las palabras más importantes y no simplemente las más frecuentes.\n",
    "Mejor manejo de palabras comunes: Al penalizar las palabras que aparecen en muchos documentos, ayuda a evitar que palabras comunes pero poco informativas dominen el análisis.\n",
    "Mejora en la clasificación de documentos: Al enfocarse en palabras distintivas de cada documento, TF-IDF puede mejorar el desempeño en tareas como clasificación de texto y clustering.\n",
    "Desventajas de TfidfVectorizer en comparación con CountVectorizer\n",
    "Complejidad y costo computacional: Calcular IDF requiere un paso adicional de recorrer todos los documentos para contar cuántas veces aparece cada palabra, lo que puede ser computacionalmente costoso especialmente para grandes corpus.\n",
    "Sensibilidad a documentos no representativos: Si el conjunto de entrenamiento no es representativo del uso general del lenguaje, las puntuaciones IDF podrían no reflejar la verdadera importancia de las palabras.\n",
    "No captura relaciones de palabras: Al igual que CountVectorizer, TfidfVectorizer no captura la posición ni la relación entre palabras (contexto), por lo que podría ser menos efectivo en algunos casos que requieren un análisis más profundo del texto."
   ]
  },
  {
   "cell_type": "markdown",
   "metadata": {},
   "source": [
    "## Punto 4 - Tokenización con TfidfVectorizer\n",
    "\n",
    "En la celda 4 creen y entrenen el mismo modelo de regresión del primer punto, para que prediga la probabilidad de que un comentario sea tóxico, usando los set de entrenamiento y test definidos anteriormente. Procesen los comentarios con la función **TfidfVectorizer** y presenten el desempeño del modelo con la métrica del MSE.\n",
    "\n",
    "Recuerden que el preprocesamiento que se haga sobre los datos de entrenamiento  (*.fit_transform()*) deben ser aplicado al set de test (*.transform()*)."
   ]
  },
  {
   "cell_type": "code",
   "execution_count": null,
   "metadata": {},
   "outputs": [],
   "source": [
    "# Celda 4\n",
    "# Preprocesamiento con TfidfVectorizer\n",
    "vectorizer = TfidfVectorizer()\n",
    "X_train_vectorized = vectorizer.fit_transform(X_train)\n",
    "X_test_vectorized = vectorizer.transform(X_test)\n",
    "\n",
    "# Creación y entrenamiento del modelo RandomForestRegressor\n",
    "model = RandomForestRegressor(n_estimators=10, random_state=42)\n",
    "model.fit(X_train_vectorized, y_train)\n",
    "\n",
    "# Predicciones y evaluación\n",
    "y_pred = model.predict(X_test_vectorized)\n",
    "mse = mean_squared_error(y_test, y_pred)\n",
    "print('Mean Squared Error:', mse)\n"
   ]
  },
  {
   "cell_type": "markdown",
   "metadata": {},
   "source": [
    "## Punto 5 - Comparación y análisis de resultados\n",
    "\n",
    "En la celda 5 comparen los resultados obtenidos de los diferentes modelos y comenten cómo el preprocesamiento de texto afecta el desempeño."
   ]
  },
  {
   "cell_type": "markdown",
   "metadata": {},
   "source": [
    "# Celda 5\n",
    "Con un CountVectorizer limitando a 5000 el número máximo de características. Esto significa que el modelo solo considera las 5000 palabras más frecuentes en el conjunto de datos.\n",
    "Resultados: El error cuadrático medio (MSE) para este modelo fue de aproximadamente 0.02249.\n",
    "\n",
    "cuando cambiamos a un CountVectorizer que solo considera trigramas (secuencias de tres palabras). Esto puede capturar más contexto que las palabras individuales, lo cual es útil en textos con significado contextual fuerte.\n",
    "\n",
    "Y por ultimo un TfidfVectorizer, que no solo cuenta la frecuencia de las palabras, sino que también ajusta esta frecuencia en función de la importancia de la palabra en el conjunto de datos completo (IDF). Esto ayuda a dar menos peso a las palabras comunes y más a las palabras significativas y únicas en contextos específicos.\n",
    "\n",
    "CountVectorizer (unigramas) tiende a ser simple y efectivo para muchos problemas de texto, pero puede no capturar contextos o significados más complejos que dependen de la secuencia de palabras.\n",
    "CountVectorizer (trigramas) puede mejorar el rendimiento al capturar frases y contextos locales, lo que podría ser crucial para entender el tono y la connotación en textos como los comentarios tóxicos. Sin embargo, aumentar el rango de n-gramas también puede llevar a un aumento en la dimensionalidad y posiblemente a un sobreajuste si no se maneja adecuadamente.\n",
    "TfidfVectorizer es útil cuando las palabras tienen diferentes grados de relevancia en el corpus, lo cual es común en los análisis de texto. Puede ser más efectivo para distinguir entre textos con palabras clave significativas."
   ]
  },
  {
   "cell_type": "code",
   "execution_count": null,
   "metadata": {},
   "outputs": [],
   "source": []
  }
 ],
 "metadata": {
  "kernelspec": {
   "display_name": "Python 3 (ipykernel)",
   "language": "python",
   "name": "python3"
  },
  "language_info": {
   "codemirror_mode": {
    "name": "ipython",
    "version": 3
   },
   "file_extension": ".py",
   "mimetype": "text/x-python",
   "name": "python",
   "nbconvert_exporter": "python",
   "pygments_lexer": "ipython3",
   "version": "3.11.7"
  },
  "name": "_merged"
 },
 "nbformat": 4,
 "nbformat_minor": 4
}
